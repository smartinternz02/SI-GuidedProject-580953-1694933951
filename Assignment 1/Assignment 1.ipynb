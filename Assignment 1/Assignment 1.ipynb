{
 "cells": [
  {
   "cell_type": "code",
   "execution_count": 1,
   "id": "0fb0c41a",
   "metadata": {},
   "outputs": [],
   "source": [
    "import pandas as pd"
   ]
  },
  {
   "cell_type": "code",
   "execution_count": 2,
   "id": "645e5c80",
   "metadata": {},
   "outputs": [],
   "source": [
    "data = {\n",
    "    'feature1': [3.2, 4.5, 6.7, 2.1, 5.4, 7.8, 1.2, 4.3, 2.8, 6.1],\n",
    "    'feature2': [12, 15, 18, 10, 14, 17, 9, 13, 11, 16],\n",
    "    'feature3': ['A', 'B', 'C', 'A', 'C', 'B', 'A', 'C', 'B', 'A'],\n",
    "    'feature4': [True, False, True, True, False, False, True, True, True, False],\n",
    "    'feature5': [0.1, 0.5, 0.3, 0.9, 0.7, 0.2, 0.8, 0.6, 0.4, 0.9]\n",
    "}\n",
    "\n",
    "df = pd.DataFrame(data)"
   ]
  },
  {
   "cell_type": "code",
   "execution_count": 3,
   "id": "213274c4",
   "metadata": {},
   "outputs": [
    {
     "name": "stdout",
     "output_type": "stream",
     "text": [
      "<class 'pandas.core.frame.DataFrame'>\n",
      "RangeIndex: 10 entries, 0 to 9\n",
      "Data columns (total 5 columns):\n",
      " #   Column    Non-Null Count  Dtype  \n",
      "---  ------    --------------  -----  \n",
      " 0   feature1  10 non-null     float64\n",
      " 1   feature2  10 non-null     int64  \n",
      " 2   feature3  10 non-null     object \n",
      " 3   feature4  10 non-null     bool   \n",
      " 4   feature5  10 non-null     float64\n",
      "dtypes: bool(1), float64(2), int64(1), object(1)\n",
      "memory usage: 462.0+ bytes\n",
      "None\n"
     ]
    }
   ],
   "source": [
    "print(df.info())"
   ]
  },
  {
   "cell_type": "code",
   "execution_count": 4,
   "id": "d3b7ab20",
   "metadata": {},
   "outputs": [
    {
     "name": "stdout",
     "output_type": "stream",
     "text": [
      "        feature1  feature2   feature5\n",
      "count  10.000000  10.00000  10.000000\n",
      "mean    4.410000  13.50000   0.540000\n",
      "std     2.115787   3.02765   0.287518\n",
      "min     1.200000   9.00000   0.100000\n",
      "25%     2.900000  11.25000   0.325000\n",
      "50%     4.400000  13.50000   0.550000\n",
      "75%     5.925000  15.75000   0.775000\n",
      "max     7.800000  18.00000   0.900000\n"
     ]
    }
   ],
   "source": [
    "print(df.describe())"
   ]
  },
  {
   "cell_type": "code",
   "execution_count": 5,
   "id": "d23836db",
   "metadata": {},
   "outputs": [
    {
     "name": "stdout",
     "output_type": "stream",
     "text": [
      "feature1      5.4\n",
      "feature2       14\n",
      "feature3        C\n",
      "feature4    False\n",
      "feature5      0.7\n",
      "Name: 4, dtype: object\n"
     ]
    }
   ],
   "source": [
    "observation_4 = df.loc[4]\n",
    "print(observation_4)"
   ]
  },
  {
   "cell_type": "code",
   "execution_count": 6,
   "id": "8c01ac4e",
   "metadata": {},
   "outputs": [
    {
     "name": "stdout",
     "output_type": "stream",
     "text": [
      "feature1    0\n",
      "feature2    0\n",
      "feature3    0\n",
      "feature4    0\n",
      "feature5    0\n",
      "dtype: int64\n"
     ]
    }
   ],
   "source": [
    "print(df.isnull().sum())"
   ]
  },
  {
   "cell_type": "code",
   "execution_count": null,
   "id": "1e574114",
   "metadata": {},
   "outputs": [],
   "source": []
  }
 ],
 "metadata": {
  "kernelspec": {
   "display_name": "Python 3 (ipykernel)",
   "language": "python",
   "name": "python3"
  },
  "language_info": {
   "codemirror_mode": {
    "name": "ipython",
    "version": 3
   },
   "file_extension": ".py",
   "mimetype": "text/x-python",
   "name": "python",
   "nbconvert_exporter": "python",
   "pygments_lexer": "ipython3",
   "version": "3.11.4"
  }
 },
 "nbformat": 4,
 "nbformat_minor": 5
}
